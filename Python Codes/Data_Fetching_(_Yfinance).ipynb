{
  "nbformat": 4,
  "nbformat_minor": 0,
  "metadata": {
    "colab": {
      "provenance": []
    },
    "kernelspec": {
      "name": "python3",
      "display_name": "Python 3"
    },
    "language_info": {
      "name": "python"
    }
  },
  "cells": [
    {
      "cell_type": "code",
      "source": [
        "import pandas as pd\n",
        "import yfinance as yf\n",
        "\n",
        "symbol = '^CNXAUTO'\n",
        "start_date = '2011-08-22'\n",
        "end_date = '2024-02-21'\n",
        "nifty_Auto_data = yf.download(symbol, start=start_date, end=end_date, interval='1d')\n",
        "csv_filename = 'Nifty_Auto_Data.csv'\n",
        "nifty_Auto_data.to_csv(csv_filename)\n",
        "\n",
        "print(\"Data Saved To\", csv_filename)\n"
      ],
      "metadata": {
        "colab": {
          "base_uri": "https://localhost:8080/"
        },
        "id": "w33CJYc_7VNr",
        "outputId": "0215169d-c45d-461d-9ed0-de8c90da3ec2"
      },
      "execution_count": 11,
      "outputs": [
        {
          "output_type": "stream",
          "name": "stderr",
          "text": [
            "\r[*********************100%%**********************]  1 of 1 completed"
          ]
        },
        {
          "output_type": "stream",
          "name": "stdout",
          "text": [
            "Data Saved To Nifty_Auto_Data.csv\n"
          ]
        },
        {
          "output_type": "stream",
          "name": "stderr",
          "text": [
            "\n"
          ]
        }
      ]
    },
    {
      "cell_type": "code",
      "source": [
        "import pandas as pd\n",
        "import yfinance as yf\n",
        "\n",
        "symbol = '^CNXENERGY'\n",
        "start_date = '2011-08-22'\n",
        "end_date = '2024-02-21'\n",
        "nifty_Energy_data = yf.download(symbol, start=start_date, end=end_date, interval='1d')\n",
        "csv_filename = 'Nifty_Energy_Data.csv'\n",
        "nifty_Energy_data.to_csv(csv_filename)\n",
        "\n",
        "print(\"Data Saved To\", csv_filename)\n"
      ],
      "metadata": {
        "colab": {
          "base_uri": "https://localhost:8080/"
        },
        "id": "ahICdMy_cdGO",
        "outputId": "e25a94d3-b959-4114-841d-bd37669c7880"
      },
      "execution_count": 12,
      "outputs": [
        {
          "output_type": "stream",
          "name": "stderr",
          "text": [
            "\r[*********************100%%**********************]  1 of 1 completed"
          ]
        },
        {
          "output_type": "stream",
          "name": "stdout",
          "text": [
            "Data Saved To Nifty_Energy_Data.csv\n"
          ]
        },
        {
          "output_type": "stream",
          "name": "stderr",
          "text": [
            "\n"
          ]
        }
      ]
    },
    {
      "cell_type": "code",
      "source": [
        "import pandas as pd\n",
        "import yfinance as yf\n",
        "\n",
        "symbol = '^CNXFMCG'\n",
        "start_date = '2011-08-22'\n",
        "end_date = '2024-02-21'\n",
        "nifty_FMCG_data = yf.download(symbol, start=start_date, end=end_date, interval='1d')\n",
        "csv_filename = 'Nifty_FMCG_Data.csv'\n",
        "nifty_FMCG_data.to_csv(csv_filename)\n",
        "\n",
        "print(\"Data Saved To\", csv_filename)\n"
      ],
      "metadata": {
        "colab": {
          "base_uri": "https://localhost:8080/"
        },
        "id": "nLMhD3-Ecm7w",
        "outputId": "224cc587-1598-4ee7-c6e3-bec4c19ae452"
      },
      "execution_count": 13,
      "outputs": [
        {
          "output_type": "stream",
          "name": "stderr",
          "text": [
            "\r[*********************100%%**********************]  1 of 1 completed"
          ]
        },
        {
          "output_type": "stream",
          "name": "stdout",
          "text": [
            "Data Saved To Nifty_FMCG_Data.csv\n"
          ]
        },
        {
          "output_type": "stream",
          "name": "stderr",
          "text": [
            "\n"
          ]
        }
      ]
    },
    {
      "cell_type": "code",
      "source": [
        "import pandas as pd\n",
        "import yfinance as yf\n",
        "\n",
        "symbol = '^CNXINFRA'\n",
        "start_date = '2011-08-22'\n",
        "end_date = '2024-02-21'\n",
        "nifty_Infra_data = yf.download(symbol, start=start_date, end=end_date, interval='1d')\n",
        "csv_filename = 'Nifty_Infra_Data.csv'\n",
        "nifty_Infra_data.to_csv(csv_filename)\n",
        "\n",
        "print(\"Data Saved To\", csv_filename)\n"
      ],
      "metadata": {
        "colab": {
          "base_uri": "https://localhost:8080/"
        },
        "id": "12U1fkKicvuF",
        "outputId": "42cd01fd-1739-4a38-a23d-a0427dec0073"
      },
      "execution_count": 14,
      "outputs": [
        {
          "output_type": "stream",
          "name": "stderr",
          "text": [
            "\r[*********************100%%**********************]  1 of 1 completed"
          ]
        },
        {
          "output_type": "stream",
          "name": "stdout",
          "text": [
            "Data Saved To Nifty_Infra_Data.csv\n"
          ]
        },
        {
          "output_type": "stream",
          "name": "stderr",
          "text": [
            "\n"
          ]
        }
      ]
    },
    {
      "cell_type": "code",
      "source": [
        "import pandas as pd\n",
        "import yfinance as yf\n",
        "\n",
        "symbol = '^CNXIT'\n",
        "start_date = '2011-08-22'\n",
        "end_date = '2024-02-21'\n",
        "nifty_Auto_data = yf.download(symbol, start=start_date, end=end_date, interval='1d')\n",
        "csv_filename = 'Nifty_Auto_Data.csv'\n",
        "nifty_Auto_data.to_csv(csv_filename)\n",
        "\n",
        "print(\"Data Saved To\", csv_filename)\n"
      ],
      "metadata": {
        "colab": {
          "base_uri": "https://localhost:8080/"
        },
        "id": "VqkO9TjSdLlN",
        "outputId": "c9c543fc-bcb0-4bb2-ccd8-5f356a166e04"
      },
      "execution_count": 15,
      "outputs": [
        {
          "output_type": "stream",
          "name": "stderr",
          "text": [
            "\r[*********************100%%**********************]  1 of 1 completed"
          ]
        },
        {
          "output_type": "stream",
          "name": "stdout",
          "text": [
            "Data Saved To Nifty_Auto_Data.csv\n"
          ]
        },
        {
          "output_type": "stream",
          "name": "stderr",
          "text": [
            "\n"
          ]
        }
      ]
    },
    {
      "cell_type": "code",
      "source": [
        "import pandas as pd\n",
        "import yfinance as yf\n",
        "\n",
        "symbol = '^CNXREALTY'\n",
        "start_date = '2011-08-22'\n",
        "end_date = '2024-02-21'\n",
        "nifty_Auto_data = yf.download(symbol, start=start_date, end=end_date, interval='1d')\n",
        "csv_filename = 'Nifty_Auto_Data.csv'\n",
        "nifty_Auto_data.to_csv(csv_filename)\n",
        "\n",
        "print(\"Data Saved To\", csv_filename)\n"
      ],
      "metadata": {
        "colab": {
          "base_uri": "https://localhost:8080/"
        },
        "id": "jqtzYn4HdQP0",
        "outputId": "47e3f1fd-1c4d-45b4-9281-f6859e8f3af6"
      },
      "execution_count": 16,
      "outputs": [
        {
          "output_type": "stream",
          "name": "stderr",
          "text": [
            "\r[*********************100%%**********************]  1 of 1 completed"
          ]
        },
        {
          "output_type": "stream",
          "name": "stdout",
          "text": [
            "Data Saved To Nifty_Auto_Data.csv\n"
          ]
        },
        {
          "output_type": "stream",
          "name": "stderr",
          "text": [
            "\n"
          ]
        }
      ]
    }
  ]
}